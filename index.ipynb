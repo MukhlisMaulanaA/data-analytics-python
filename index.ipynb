{
 "cells": [
  {
   "cell_type": "code",
   "execution_count": 94,
   "metadata": {},
   "outputs": [],
   "source": [
    "import pandas as pd\n",
    "import numpy as np\n",
    "import matplotlib.pyplot as plt\n",
    "import seaborn as sns"
   ]
  },
  {
   "cell_type": "code",
   "execution_count": 86,
   "metadata": {},
   "outputs": [],
   "source": [
    "# Read Data file CSV\n",
    "df = pd.read_csv(\"data-retail.csv\")"
   ]
  },
  {
   "cell_type": "code",
   "execution_count": 19,
   "metadata": {},
   "outputs": [],
   "source": [
    "def data ():\n",
    "  print(\"====== Menampilkan 5 baris pertama ======\")\n",
    "  head = print(df.head())\n",
    "  print(\"====== Memeriksa dimensi data ======\")\n",
    "  shape = print(df.shape)\n",
    "  print(\"====== Menampilkan tipe data pada tiap kolom ======\")\n",
    "  info = print(df.info())\n",
    "  print(\"//////////====== Memulai Explorasi Data ======////////////\")\n",
    "  print(\"====== Statistik Deskriptif ======\")\n",
    "  describe = print(df.describe())\n",
    "  print (\"====== Memeriksa missing value ======\")\n",
    "  isnull = print(df.isnull().sum())\n",
    "  \n",
    "  return head, shape, info, describe, isnull"
   ]
  },
  {
   "cell_type": "code",
   "execution_count": 20,
   "metadata": {},
   "outputs": [
    {
     "name": "stdout",
     "output_type": "stream",
     "text": [
      "====== Menampilkan 5 baris pertama ======\n",
      "   Store        Date  Temperature  Fuel_Price  MarkDown1  MarkDown2  \\\n",
      "0      1  05/02/2010        42.31       2.572        NaN        NaN   \n",
      "1      1  12/02/2010        38.51       2.548        NaN        NaN   \n",
      "2      1  19/02/2010        39.93       2.514        NaN        NaN   \n",
      "3      1  26/02/2010        46.63       2.561        NaN        NaN   \n",
      "4      1  05/03/2010        46.50       2.625        NaN        NaN   \n",
      "\n",
      "   MarkDown3  MarkDown4  MarkDown5         CPI  Unemployment  IsHoliday  \n",
      "0        NaN        NaN        NaN  211.096358         8.106      False  \n",
      "1        NaN        NaN        NaN  211.242170         8.106       True  \n",
      "2        NaN        NaN        NaN  211.289143         8.106      False  \n",
      "3        NaN        NaN        NaN  211.319643         8.106      False  \n",
      "4        NaN        NaN        NaN  211.350143         8.106      False  \n",
      "====== Memeriksa dimensi data ======\n",
      "(8190, 12)\n",
      "====== Menampilkan tipe data pada tiap kolom ======\n",
      "<class 'pandas.core.frame.DataFrame'>\n",
      "RangeIndex: 8190 entries, 0 to 8189\n",
      "Data columns (total 12 columns):\n",
      " #   Column        Non-Null Count  Dtype  \n",
      "---  ------        --------------  -----  \n",
      " 0   Store         8190 non-null   int64  \n",
      " 1   Date          8190 non-null   object \n",
      " 2   Temperature   8190 non-null   float64\n",
      " 3   Fuel_Price    8190 non-null   float64\n",
      " 4   MarkDown1     4032 non-null   float64\n",
      " 5   MarkDown2     2921 non-null   float64\n",
      " 6   MarkDown3     3613 non-null   float64\n",
      " 7   MarkDown4     3464 non-null   float64\n",
      " 8   MarkDown5     4050 non-null   float64\n",
      " 9   CPI           7605 non-null   float64\n",
      " 10  Unemployment  7605 non-null   float64\n",
      " 11  IsHoliday     8190 non-null   bool   \n",
      "dtypes: bool(1), float64(9), int64(1), object(1)\n",
      "memory usage: 712.0+ KB\n",
      "None\n",
      "//////////====== Memulai Explorasi Data ======////////////\n",
      "====== Statistik Deskriptif ======\n",
      "             Store  Temperature   Fuel_Price      MarkDown1      MarkDown2  \\\n",
      "count  8190.000000  8190.000000  8190.000000    4032.000000    2921.000000   \n",
      "mean     23.000000    59.356198     3.405992    7032.371786    3384.176594   \n",
      "std      12.987966    18.678607     0.431337    9262.747448    8793.583016   \n",
      "min       1.000000    -7.290000     2.472000   -2781.450000    -265.760000   \n",
      "25%      12.000000    45.902500     3.041000    1577.532500      68.880000   \n",
      "50%      23.000000    60.710000     3.513000    4743.580000     364.570000   \n",
      "75%      34.000000    73.880000     3.743000    8923.310000    2153.350000   \n",
      "max      45.000000   101.950000     4.468000  103184.980000  104519.540000   \n",
      "\n",
      "           MarkDown3     MarkDown4      MarkDown5          CPI  Unemployment  \n",
      "count    3613.000000   3464.000000    4050.000000  7605.000000   7605.000000  \n",
      "mean     1760.100180   3292.935886    4132.216422   172.460809      7.826821  \n",
      "std     11276.462208   6792.329861   13086.690278    39.738346      1.877259  \n",
      "min      -179.260000      0.220000    -185.170000   126.064000      3.684000  \n",
      "25%         6.600000    304.687500    1440.827500   132.364839      6.634000  \n",
      "50%        36.260000   1176.425000    2727.135000   182.764003      7.806000  \n",
      "75%       163.150000   3310.007500    4832.555000   213.932412      8.567000  \n",
      "max    149483.310000  67474.850000  771448.100000   228.976456     14.313000  \n",
      "====== Memeriksa missing value ======\n",
      "Store              0\n",
      "Date               0\n",
      "Temperature        0\n",
      "Fuel_Price         0\n",
      "MarkDown1       4158\n",
      "MarkDown2       5269\n",
      "MarkDown3       4577\n",
      "MarkDown4       4726\n",
      "MarkDown5       4140\n",
      "CPI              585\n",
      "Unemployment     585\n",
      "IsHoliday          0\n",
      "dtype: int64\n"
     ]
    },
    {
     "data": {
      "text/plain": [
       "(None, None, None, None, None)"
      ]
     },
     "execution_count": 20,
     "metadata": {},
     "output_type": "execute_result"
    }
   ],
   "source": [
    "data()"
   ]
  },
  {
   "cell_type": "markdown",
   "metadata": {},
   "source": [
    "<!-- Menangani Missing Value -->"
   ]
  },
  {
   "cell_type": "code",
   "execution_count": 37,
   "metadata": {},
   "outputs": [],
   "source": [
    "# df_cleanup = df.dropna()\n",
    "\n",
    "df_cleanup = df.dropna()\n",
    "\n",
    "# print(df_cleanup.isnull().sum())\n",
    "# print(df_cleanup.isnull().sum())"
   ]
  },
  {
   "cell_type": "markdown",
   "metadata": {},
   "source": [
    "<!-- Pembersihan Data -->"
   ]
  },
  {
   "cell_type": "code",
   "execution_count": 44,
   "metadata": {},
   "outputs": [
    {
     "name": "stdout",
     "output_type": "stream",
     "text": [
      "    Store       Date  Temperature  Fuel_Price  MarkDown1  MarkDown2  \\\n",
      "92      1 2011-11-11        59.11       3.297   10382.90    6115.67   \n",
      "93      1 2011-11-18        62.25       3.308    6074.12     254.39   \n",
      "94      1 2011-11-25        60.14       3.236     410.31      98.00   \n",
      "95      1 2011-12-02        48.91       3.172    5629.51      68.00   \n",
      "96      1 2011-12-09        43.93       3.158    4640.65      19.00   \n",
      "\n",
      "    MarkDown3  MarkDown4  MarkDown5         CPI  Unemployment  IsHoliday  \n",
      "92     215.07    2406.62    6551.42  217.998085         7.866      False  \n",
      "93      51.98     427.39    5988.57  218.220509         7.866      False  \n",
      "94   55805.51       8.00     554.92  218.467621         7.866       True  \n",
      "95    1398.11    2084.64   20475.32  218.714733         7.866      False  \n",
      "96     105.02    3639.42   14461.82  218.961846         7.866      False  \n"
     ]
    },
    {
     "name": "stderr",
     "output_type": "stream",
     "text": [
      "C:\\Users\\mukhl\\AppData\\Local\\Temp\\ipykernel_17252\\3071925549.py:2: SettingWithCopyWarning: \n",
      "A value is trying to be set on a copy of a slice from a DataFrame.\n",
      "Try using .loc[row_indexer,col_indexer] = value instead\n",
      "\n",
      "See the caveats in the documentation: https://pandas.pydata.org/pandas-docs/stable/user_guide/indexing.html#returning-a-view-versus-a-copy\n",
      "  df_cleanup['Date'] = pd.to_datetime(df_cleanup['Date'], dayfirst=True)\n"
     ]
    }
   ],
   "source": [
    "print(df_cleanup.head())\n",
    "df_cleanup['Date'] = pd.to_datetime(df_cleanup['Date'], dayfirst=True)"
   ]
  },
  {
   "cell_type": "markdown",
   "metadata": {},
   "source": [
    "<!-- Visualisasi Data -->"
   ]
  },
  {
   "cell_type": "code",
   "execution_count": 87,
   "metadata": {},
   "outputs": [
    {
     "name": "stdout",
     "output_type": "stream",
     "text": [
      "    Store       Date  Temperature  Fuel_Price  MarkDown1  MarkDown2  \\\n",
      "92      1 2011-11-11        59.11       3.297   10382.90    6115.67   \n",
      "93      1 2011-11-18        62.25       3.308    6074.12     254.39   \n",
      "94      1 2011-11-25        60.14       3.236     410.31      98.00   \n",
      "95      1 2011-12-02        48.91       3.172    5629.51      68.00   \n",
      "96      1 2011-12-09        43.93       3.158    4640.65      19.00   \n",
      "\n",
      "    MarkDown3  MarkDown4  MarkDown5         CPI  Unemployment  IsHoliday  \n",
      "92     215.07    2406.62    6551.42  217.998085         7.866      False  \n",
      "93      51.98     427.39    5988.57  218.220509         7.866      False  \n",
      "94   55805.51       8.00     554.92  218.467621         7.866       True  \n",
      "95    1398.11    2084.64   20475.32  218.714733         7.866      False  \n",
      "96     105.02    3639.42   14461.82  218.961846         7.866      False  \n"
     ]
    }
   ],
   "source": []
  },
  {
   "cell_type": "code",
   "execution_count": 101,
   "metadata": {},
   "outputs": [
    {
     "data": {
      "text/plain": [
       "<Axes: xlabel='Temperature'>"
      ]
     },
     "execution_count": 101,
     "metadata": {},
     "output_type": "execute_result"
    },
    {
     "data": {
      "image/png": "[encoded data removed]",
      "text/plain": [
       "<Figure size 640x480 with 1 Axes>"
      ]
     },
     "metadata": {},
     "output_type": "display_data"
    }
   ],
   "source": [
    "sns.boxplot(x=df_cleanup['Temperature'])\n"
   ]
  },
  {
   "cell_type": "markdown",
   "metadata": {},
   "source": [
    "<!-- Analisis Mendalam -->"
   ]
  },
  {
   "cell_type": "code",
   "execution_count": null,
   "metadata": {},
   "outputs": [],
   "source": []
  }
 ],
 "metadata": {
  "kernelspec": {
   "display_name": ".venv",
   "language": "python",
   "name": "python3"
  },
  "language_info": {
   "codemirror_mode": {
    "name": "ipython",
    "version": 3
   },
   "file_extension": ".py",
   "mimetype": "text/x-python",
   "name": "python",
   "nbconvert_exporter": "python",
   "pygments_lexer": "ipython3",
   "version": "3.11.1"
  }
 },
 "nbformat": 4,
 "nbformat_minor": 2
}
