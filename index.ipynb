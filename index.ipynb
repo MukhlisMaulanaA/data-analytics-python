{
 "cells": [
  {
   "cell_type": "code",
   "execution_count": 94,
   "metadata": {},
   "outputs": [],
   "source": [
    "import pandas as pd\n",
    "import numpy as np\n",
    "import matplotlib.pyplot as plt\n",
    "import seaborn as sns"
   ]
  },
  {
   "cell_type": "code",
   "execution_count": 102,
   "metadata": {},
   "outputs": [],
   "source": [
    "# Read Data file CSV\n",
    "df = pd.read_csv(\"ispu_dki1.csv\")"
   ]
  },
  {
   "cell_type": "code",
   "execution_count": 103,
   "metadata": {},
   "outputs": [],
   "source": [
    "def data ():\n",
    "  print(\"====== Menampilkan 5 baris pertama ======\")\n",
    "  head = print(df.head())\n",
    "  print(\"====== Memeriksa dimensi data ======\")\n",
    "  shape = print(df.shape)\n",
    "  print(\"====== Menampilkan tipe data pada tiap kolom ======\")\n",
    "  info = print(df.info())\n",
    "  print(\"//////////====== Memulai Explorasi Data ======////////////\")\n",
    "  print(\"====== Statistik Deskriptif ======\")\n",
    "  describe = print(df.describe())\n",
    "  print (\"====== Memeriksa missing value ======\")\n",
    "  isnull = print(df.isnull().sum())\n",
    "  \n",
    "  return head, shape, info, describe, isnull"
   ]
  },
  {
   "cell_type": "code",
   "execution_count": 104,
   "metadata": {},
   "outputs": [
    {
     "name": "stdout",
     "output_type": "stream",
     "text": [
      "====== Menampilkan 5 baris pertama ======\n",
      "      tanggal             stasiun  pm10  so2    co    o3   no2   max critical  \\\n",
      "0  2010-01-01  DKI1 (Bunderan HI)  60.0  4.0  73.0  27.0  14.0  73.0       CO   \n",
      "1  2010-01-02  DKI1 (Bunderan HI)  32.0  2.0  16.0  33.0   9.0  33.0       O3   \n",
      "2  2010-01-03  DKI1 (Bunderan HI)  27.0  2.0  19.0  20.0   9.0  27.0     PM10   \n",
      "3  2010-01-04  DKI1 (Bunderan HI)  22.0  2.0  16.0  15.0   6.0  22.0     PM10   \n",
      "4  2010-01-05  DKI1 (Bunderan HI)  25.0  2.0  17.0  15.0   8.0  25.0     PM10   \n",
      "\n",
      "  categori  pm25  \n",
      "0   SEDANG   NaN  \n",
      "1     BAIK   NaN  \n",
      "2     BAIK   NaN  \n",
      "3     BAIK   NaN  \n",
      "4     BAIK   NaN  \n",
      "====== Memeriksa dimensi data ======\n",
      "(4383, 11)\n",
      "====== Menampilkan tipe data pada tiap kolom ======\n",
      "<class 'pandas.core.frame.DataFrame'>\n",
      "RangeIndex: 4383 entries, 0 to 4382\n",
      "Data columns (total 11 columns):\n",
      " #   Column    Non-Null Count  Dtype  \n",
      "---  ------    --------------  -----  \n",
      " 0   tanggal   4383 non-null   object \n",
      " 1   stasiun   4383 non-null   object \n",
      " 2   pm10      4171 non-null   float64\n",
      " 3   so2       4208 non-null   float64\n",
      " 4   co        4233 non-null   float64\n",
      " 5   o3        4180 non-null   float64\n",
      " 6   no2       4190 non-null   float64\n",
      " 7   max       4374 non-null   float64\n",
      " 8   critical  4273 non-null   object \n",
      " 9   categori  4383 non-null   object \n",
      " 10  pm25      365 non-null    float64\n",
      "dtypes: float64(7), object(4)\n",
      "memory usage: 376.8+ KB\n",
      "None\n",
      "//////////====== Memulai Explorasi Data ======////////////\n",
      "====== Statistik Deskriptif ======\n",
      "              pm10          so2           co           o3          no2  \\\n",
      "count  4171.000000  4208.000000  4233.000000  4180.000000  4190.000000   \n",
      "mean     52.226325    18.091017    24.852351    49.514593    14.107637   \n",
      "std      14.578838    10.755446    11.153177    25.784704     8.948707   \n",
      "min       4.000000     1.000000     3.000000     3.000000     1.000000   \n",
      "25%      43.000000    10.000000    17.000000    29.000000     7.000000   \n",
      "50%      54.000000    17.000000    24.000000    46.000000    14.000000   \n",
      "75%      62.000000    25.000000    31.000000    66.000000    19.000000   \n",
      "max     104.000000   106.000000    95.000000   198.000000    79.000000   \n",
      "\n",
      "               max        pm25  \n",
      "count  4374.000000  365.000000  \n",
      "mean     60.741198   69.073973  \n",
      "std      22.150779   18.117065  \n",
      "min       0.000000   20.000000  \n",
      "25%      49.000000   57.000000  \n",
      "50%      60.000000   70.000000  \n",
      "75%      73.000000   81.000000  \n",
      "max     198.000000  112.000000  \n",
      "====== Memeriksa missing value ======\n",
      "tanggal        0\n",
      "stasiun        0\n",
      "pm10         212\n",
      "so2          175\n",
      "co           150\n",
      "o3           203\n",
      "no2          193\n",
      "max            9\n",
      "critical     110\n",
      "categori       0\n",
      "pm25        4018\n",
      "dtype: int64\n"
     ]
    },
    {
     "data": {
      "text/plain": [
       "(None, None, None, None, None)"
      ]
     },
     "execution_count": 104,
     "metadata": {},
     "output_type": "execute_result"
    }
   ],
   "source": [
    "data()"
   ]
  },
  {
   "cell_type": "markdown",
   "metadata": {},
   "source": [
    "<!-- Menangani Missing Value -->"
   ]
  },
  {
   "cell_type": "code",
   "execution_count": 105,
   "metadata": {},
   "outputs": [],
   "source": [
    "# df_cleanup = df.dropna()\n",
    "\n",
    "df_cleanup = df.dropna()\n",
    "\n",
    "# print(df_cleanup.isnull().sum())\n",
    "# print(df_cleanup.isnull().sum())"
   ]
  },
  {
   "cell_type": "markdown",
   "metadata": {},
   "source": [
    "<!-- Pembersihan Data -->"
   ]
  },
  {
   "cell_type": "code",
   "execution_count": 108,
   "metadata": {},
   "outputs": [
    {
     "name": "stdout",
     "output_type": "stream",
     "text": [
      "         tanggal             stasiun  pm10   so2   co    o3   no2   max  \\\n",
      "4018  2021-01-01  DKI1 (Bunderan HI)  38.0  29.0  6.0  31.0  13.0  53.0   \n",
      "4019  2021-01-02  DKI1 (Bunderan HI)  27.0  27.0  7.0  47.0   7.0  47.0   \n",
      "4020  2021-01-03  DKI1 (Bunderan HI)  44.0  25.0  7.0  40.0  13.0  58.0   \n",
      "4021  2021-01-04  DKI1 (Bunderan HI)  30.0  24.0  4.0  32.0   7.0  48.0   \n",
      "4022  2021-01-05  DKI1 (Bunderan HI)  38.0  24.0  6.0  31.0   9.0  53.0   \n",
      "\n",
      "     critical categori  pm25  \n",
      "4018     PM25   SEDANG  53.0  \n",
      "4019       O3     BAIK  46.0  \n",
      "4020     PM25   SEDANG  58.0  \n",
      "4021     PM25     BAIK  48.0  \n",
      "4022     PM25   SEDANG  53.0  \n"
     ]
    },
    {
     "name": "stderr",
     "output_type": "stream",
     "text": [
      "C:\\Users\\mukhl\\AppData\\Local\\Temp\\ipykernel_17252\\1623770844.py:2: SettingWithCopyWarning: \n",
      "A value is trying to be set on a copy of a slice from a DataFrame.\n",
      "Try using .loc[row_indexer,col_indexer] = value instead\n",
      "\n",
      "See the caveats in the documentation: https://pandas.pydata.org/pandas-docs/stable/user_guide/indexing.html#returning-a-view-versus-a-copy\n",
      "  df_cleanup['tanggal'] = pd.to_datetime(df_cleanup['tanggal'], format=\"ISO8601\")\n"
     ]
    }
   ],
   "source": [
    "print(df_cleanup.head())\n",
    "df_cleanup['tanggal'] = pd.to_datetime(df_cleanup['tanggal'], format=\"ISO8601\")"
   ]
  },
  {
   "cell_type": "markdown",
   "metadata": {},
   "source": [
    "<!-- Visualisasi Data -->"
   ]
  },
  {
   "cell_type": "code",
   "execution_count": 123,
   "metadata": {},
   "outputs": [
    {
     "name": "stdout",
     "output_type": "stream",
     "text": [
      "Index(['tanggal', 'stasiun', 'pm10', 'so2', 'co', 'o3', 'no2', 'max',\n",
      "       'critical', 'categori', 'pm25'],\n",
      "      dtype='object')\n"
     ]
    }
   ],
   "source": [
    "df_cleanup.head()\n",
    "print(df.columns)"
   ]
  },
  {
   "cell_type": "code",
   "execution_count": 128,
   "metadata": {},
   "outputs": [
    {
     "name": "stdout",
     "output_type": "stream",
     "text": [
      "categori\n",
      "BAIK              1054\n",
      "SEDANG            3065\n",
      "TIDAK ADA DATA     110\n",
      "TIDAK SEHAT        154\n",
      "dtype: int64\n"
     ]
    }
   ],
   "source": [
    "kategori_counts = df.groupby('categori').size()\n",
    "print(kategori_counts)\n",
    "\n"
   ]
  },
  {
   "cell_type": "code",
   "execution_count": 130,
   "metadata": {},
   "outputs": [
    {
     "data": {
      "image/png": "[encoded data removed]",
      "text/plain": [
       "<Figure size 1000x600 with 1 Axes>"
      ]
     },
     "metadata": {},
     "output_type": "display_data"
    }
   ],
   "source": [
    "# Membuat histogram\n",
    "plt.figure(figsize=(10, 6))\n",
    "bars = kategori_counts.plot(kind='bar', color='skyblue')\n",
    "\n",
    "# Menambahkan judul dan label sumbu\n",
    "plt.title('Jumlah Kualitas Air Berdasarkan Kategori')\n",
    "plt.xlabel('Kategori')\n",
    "plt.ylabel('Jumlah')\n",
    "\n",
    "# Menambahkan anotasi pada setiap batang\n",
    "for bar in bars.patches:\n",
    "    height = bar.get_height()\n",
    "    plt.text(bar.get_x() + bar.get_width() / 2, height, str(height), ha='center', va='bottom')\n",
    "\n",
    "# Menampilkan grafik\n",
    "plt.xticks(rotation=45)\n",
    "plt.tight_layout()\n",
    "plt.show()\n"
   ]
  },
  {
   "cell_type": "markdown",
   "metadata": {},
   "source": [
    "<!-- Analisis Mendalam -->"
   ]
  },
  {
   "cell_type": "code",
   "execution_count": null,
   "metadata": {},
   "outputs": [],
   "source": []
  }
 ],
 "metadata": {
  "kernelspec": {
   "display_name": ".venv",
   "language": "python",
   "name": "python3"
  },
  "language_info": {
   "codemirror_mode": {
    "name": "ipython",
    "version": 3
   },
   "file_extension": ".py",
   "mimetype": "text/x-python",
   "name": "python",
   "nbconvert_exporter": "python",
   "pygments_lexer": "ipython3",
   "version": "3.11.1"
  }
 },
 "nbformat": 4,
 "nbformat_minor": 2
}
